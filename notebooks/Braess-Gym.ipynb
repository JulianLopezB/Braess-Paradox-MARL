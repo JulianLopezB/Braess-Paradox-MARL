{
 "cells": [
  {
   "cell_type": "code",
   "execution_count": 17,
   "id": "6341947d",
   "metadata": {},
   "outputs": [],
   "source": [
    "import gym\n",
    "from gym.spaces import Discrete, Box\n",
    "import numpy as np"
   ]
  },
  {
   "cell_type": "code",
   "execution_count": 18,
   "id": "c4c66bd1",
   "metadata": {},
   "outputs": [],
   "source": [
    "def reset(n_agents, ):\n",
    "    state = np.zeros(n_agents+1)\n",
    "    return state"
   ]
  },
  {
   "cell_type": "code",
   "execution_count": 95,
   "id": "69891778",
   "metadata": {},
   "outputs": [],
   "source": [
    "n_agents = 1000\n",
    "action_space = Discrete(2)\n",
    "state_space = Box(\n",
    "    low=0, high=3, shape=(n_agents,), dtype=int\n",
    ") "
   ]
  },
  {
   "cell_type": "code",
   "execution_count": 96,
   "id": "3974561c",
   "metadata": {},
   "outputs": [],
   "source": [
    "actions_sample = [action_space.sample() for i in range(n_agents)]\n",
    "state_sample = state_space.sample()"
   ]
  },
  {
   "cell_type": "code",
   "execution_count": 97,
   "id": "b89c6f14",
   "metadata": {},
   "outputs": [
    {
     "data": {
      "text/plain": [
       "array([[0., 0., 0., 0.],\n",
       "       [0., 0., 0., 0.],\n",
       "       [0., 0., 0., 0.],\n",
       "       [0., 0., 0., 0.]])"
      ]
     },
     "execution_count": 97,
     "metadata": {},
     "output_type": "execute_result"
    }
   ],
   "source": [
    "transition_matrix = np.zeros(shape=(4, 4))\n",
    "transition_matrix"
   ]
  },
  {
   "cell_type": "code",
   "execution_count": 98,
   "id": "26ec6b75",
   "metadata": {},
   "outputs": [
    {
     "data": {
      "text/plain": [
       "array([2, 0, 2, 2, 0, 0, 1, 3, 1, 2, 0, 1, 3, 1, 1, 2, 3, 1, 1, 1, 2, 3,\n",
       "       0, 1, 0, 0, 0, 0, 3, 0, 0, 3, 1, 1, 1, 3, 1, 3, 1, 0, 1, 2, 3, 0,\n",
       "       0, 3, 3, 0, 3, 0, 0, 0, 0, 1, 3, 3, 0, 3, 0, 1, 1, 3, 3, 1, 3, 2,\n",
       "       1, 3, 1, 2, 3, 3, 1, 3, 2, 2, 0, 0, 0, 2, 0, 1, 1, 3, 3, 2, 2, 0,\n",
       "       1, 1, 0, 2, 3, 2, 1, 0, 0, 2, 1, 2, 0, 3, 0, 0, 1, 0, 1, 2, 0, 2,\n",
       "       3, 0, 0, 0, 2, 2, 2, 2, 2, 2, 3, 0, 0, 3, 0, 0, 3, 1, 3, 0, 2, 1,\n",
       "       3, 1, 3, 3, 1, 3, 0, 2, 3, 3, 1, 0, 0, 3, 3, 0, 1, 2, 0, 3, 0, 2,\n",
       "       1, 2, 0, 0, 1, 0, 1, 1, 0, 2, 2, 2, 3, 0, 1, 3, 3, 0, 1, 1, 2, 2,\n",
       "       0, 1, 0, 0, 3, 2, 0, 0, 2, 2, 3, 3, 1, 3, 2, 0, 1, 3, 1, 3, 3, 1,\n",
       "       3, 1, 1, 3, 1, 1, 3, 0, 3, 1, 2, 0, 1, 1, 0, 1, 0, 3, 2, 0, 3, 1,\n",
       "       1, 3, 1, 3, 0, 1, 3, 1, 3, 0, 1, 1, 3, 3, 3, 3, 3, 2, 2, 0, 2, 3,\n",
       "       3, 2, 1, 1, 1, 3, 2, 2, 3, 2, 0, 2, 0, 0, 1, 0, 0, 3, 0, 3, 2, 0,\n",
       "       3, 3, 3, 1, 1, 1, 3, 0, 3, 2, 0, 3, 2, 2, 2, 1, 1, 3, 0, 3, 1, 1,\n",
       "       0, 2, 3, 1, 2, 0, 1, 0, 1, 1, 2, 0, 2, 1, 1, 3, 2, 0, 0, 1, 2, 3,\n",
       "       3, 1, 0, 3, 0, 3, 3, 3, 3, 3, 2, 2, 2, 3, 2, 0, 1, 3, 2, 2, 0, 3,\n",
       "       1, 1, 2, 2, 0, 2, 3, 2, 0, 0, 1, 3, 3, 1, 3, 0, 3, 1, 2, 3, 0, 2,\n",
       "       1, 1, 1, 1, 2, 1, 0, 1, 2, 1, 2, 1, 3, 3, 3, 3, 1, 3, 2, 3, 3, 1,\n",
       "       0, 3, 0, 2, 1, 2, 0, 2, 1, 2, 3, 0, 3, 2, 2, 1, 2, 1, 2, 0, 0, 2,\n",
       "       3, 1, 0, 3, 1, 2, 1, 2, 2, 3, 2, 0, 1, 0, 2, 0, 3, 0, 3, 2, 1, 3,\n",
       "       3, 0, 0, 3, 0, 1, 1, 3, 1, 2, 0, 0, 0, 3, 3, 3, 1, 3, 0, 2, 1, 0,\n",
       "       3, 0, 0, 0, 1, 3, 3, 0, 2, 0, 1, 3, 0, 2, 1, 1, 1, 2, 3, 1, 3, 3,\n",
       "       1, 0, 3, 3, 0, 3, 3, 0, 1, 2, 3, 3, 2, 1, 0, 2, 1, 3, 0, 1, 2, 1,\n",
       "       1, 1, 3, 0, 1, 2, 2, 3, 0, 2, 0, 2, 2, 2, 2, 0, 3, 2, 1, 3, 2, 0,\n",
       "       2, 1, 3, 1, 0, 2, 1, 2, 3, 3, 3, 0, 3, 0, 2, 1, 0, 3, 1, 2, 3, 2,\n",
       "       1, 1, 0, 3, 2, 2, 1, 0, 3, 2, 0, 2, 1, 2, 3, 0, 0, 1, 3, 1, 1, 1,\n",
       "       0, 3, 0, 1, 2, 1, 1, 2, 0, 3, 2, 1, 0, 1, 1, 2, 0, 1, 1, 3, 1, 3,\n",
       "       0, 2, 0, 1, 0, 2, 0, 0, 2, 1, 2, 2, 2, 3, 2, 0, 1, 3, 0, 1, 2, 3,\n",
       "       1, 0, 3, 3, 1, 1, 1, 3, 2, 2, 0, 2, 1, 1, 0, 2, 2, 2, 2, 0, 1, 3,\n",
       "       2, 3, 3, 1, 0, 1, 0, 3, 1, 3, 2, 1, 2, 2, 1, 2, 0, 0, 3, 0, 3, 2,\n",
       "       1, 3, 3, 1, 1, 3, 2, 0, 0, 3, 0, 2, 3, 2, 0, 1, 2, 3, 2, 1, 2, 1,\n",
       "       1, 3, 3, 3, 3, 0, 1, 3, 2, 2, 2, 1, 0, 0, 2, 3, 1, 2, 0, 1, 3, 1,\n",
       "       0, 2, 2, 2, 1, 3, 2, 1, 3, 0, 0, 2, 1, 1, 0, 1, 3, 0, 1, 2, 1, 0,\n",
       "       2, 2, 0, 1, 1, 0, 0, 1, 3, 3, 2, 0, 0, 0, 3, 0, 1, 2, 1, 1, 0, 2,\n",
       "       3, 3, 0, 0, 1, 2, 3, 3, 2, 1, 0, 3, 0, 3, 1, 3, 0, 1, 1, 1, 2, 1,\n",
       "       1, 3, 3, 0, 3, 2, 2, 0, 3, 0, 3, 3, 0, 3, 0, 3, 2, 3, 1, 1, 3, 3,\n",
       "       2, 3, 1, 2, 1, 2, 0, 3, 0, 2, 0, 2, 3, 3, 0, 3, 2, 0, 0, 0, 1, 1,\n",
       "       0, 1, 1, 1, 0, 0, 0, 1, 0, 1, 2, 2, 2, 1, 3, 2, 0, 3, 3, 2, 3, 0,\n",
       "       0, 0, 3, 3, 3, 0, 1, 3, 1, 1, 3, 2, 0, 1, 1, 2, 2, 3, 0, 1, 2, 2,\n",
       "       2, 2, 3, 1, 1, 0, 1, 0, 0, 3, 0, 3, 1, 0, 1, 0, 2, 3, 1, 0, 2, 3,\n",
       "       2, 2, 2, 3, 2, 0, 1, 2, 3, 2, 2, 3, 3, 3, 1, 0, 3, 0, 0, 0, 2, 3,\n",
       "       0, 3, 2, 3, 2, 0, 2, 2, 2, 1, 2, 1, 0, 1, 0, 3, 3, 3, 2, 1, 0, 3,\n",
       "       3, 0, 1, 0, 3, 2, 3, 1, 1, 1, 0, 1, 1, 0, 3, 3, 0, 2, 2, 1, 3, 1,\n",
       "       2, 2, 2, 1, 3, 2, 2, 1, 1, 0, 2, 0, 0, 1, 1, 1, 1, 2, 1, 3, 0, 3,\n",
       "       0, 2, 0, 1, 0, 1, 0, 2, 3, 3, 0, 2, 3, 3, 2, 0, 3, 3, 2, 2, 0, 3,\n",
       "       1, 3, 2, 2, 0, 3, 0, 2, 0, 2, 1, 0, 1, 2, 2, 0, 3, 1, 2, 3, 3, 2,\n",
       "       2, 2, 0, 1, 2, 3, 0, 0, 2, 3])"
      ]
     },
     "execution_count": 98,
     "metadata": {},
     "output_type": "execute_result"
    }
   ],
   "source": [
    "state_sample"
   ]
  },
  {
   "cell_type": "code",
   "execution_count": 102,
   "id": "88abec78",
   "metadata": {},
   "outputs": [],
   "source": [
    "# Find a more pythonic way to do this\n",
    "transition_matrix[0, 1] = sum([1 for x in zip(state_sample, actions_sample) if x[0]==0 and x[1]==0])\n",
    "transition_matrix[0, 2] = sum([1 for x in zip(state_sample, actions_sample) if x[0]==0 and x[1]==1])\n",
    "transition_matrix[1, 3] = sum([1 for x in zip(state_sample, actions_sample) if x[0]==1 and x[1]==0])\n",
    "transition_matrix[1, 2] = sum([1 for x in zip(state_sample, actions_sample) if x[1]==1 and x[1]==1])\n",
    "transition_matrix[2, 3] = sum([1 for x in zip(state_sample, actions_sample) if x[1]==2 and x[1]==1])"
   ]
  },
  {
   "cell_type": "code",
   "execution_count": 104,
   "id": "99de37c2",
   "metadata": {},
   "outputs": [
    {
     "data": {
      "text/plain": [
       "array([[  0., 140., 111.,   0.],\n",
       "       [  0.,   0., 515., 117.],\n",
       "       [  0.,   0.,   0.,   0.],\n",
       "       [  0.,   0.,   0.,   0.]])"
      ]
     },
     "execution_count": 104,
     "metadata": {},
     "output_type": "execute_result"
    }
   ],
   "source": [
    "transition_matrix"
   ]
  },
  {
   "cell_type": "code",
   "execution_count": 126,
   "id": "8acd7318",
   "metadata": {},
   "outputs": [],
   "source": [
    "class BraessGymEnv(gym.Env):\n",
    "    \n",
    "    \"\"\"Custom Environment that follows gym interface\"\"\"\n",
    "    metadata = {'render.modes': ['human']}\n",
    "\n",
    "    def __init__(self, n_agents=4000, social_welfare_type='utilitarian'):\n",
    "        \n",
    "        super(BraessGymEnv, self).__init__()\n",
    "        \n",
    "        # Game\n",
    "        self.n_agents = n_agents\n",
    "        self.cost_params  = {'c1': -n_agents*45/4000, 'c2': -n_agents/40}\n",
    "        self.social_welfare_type = social_welfare_type\n",
    "        \n",
    "        # State\n",
    "        self.reset()\n",
    "        \n",
    "        # Environment\n",
    "        self.action_space = Discrete(2) # A or B\n",
    "        self.state_space = Box(\n",
    "            low=0, high=3, shape=(self.n_agents,), dtype=int\n",
    "        )  \n",
    "        \n",
    "    \n",
    "    def reset(self):\n",
    "        self.done = False\n",
    "        self.done = False\n",
    "        self.state = np.zeros(self.n_agents)\n",
    "    \n",
    "    def step(self, actions):\n",
    "        \n",
    "        #info = {}\n",
    "        # Find a more pythonic way to do this\n",
    "        transition_matrix = np.zeros(shape=(4, 4))\n",
    "        transition_matrix[0, 1] = sum([1 for x in zip(self.state, actions) if x[0]==0 and x[1]==0])\n",
    "        transition_matrix[0, 2] = sum([1 for x in zip(self.state, actions) if x[0]==0 and x[1]==1])\n",
    "        transition_matrix[1, 3] = sum([1 for x in zip(self.state, actions) if x[0]==1 and x[1]==0])\n",
    "        transition_matrix[1, 2] = sum([1 for x in zip(self.state, actions) if x[1]==1 and x[1]==1])\n",
    "        transition_matrix[2, 3] = sum([1 for x in zip(self.state, actions) if x[1]==2 and x[1]==1])\n",
    "        \n",
    "        rewards = np.zeros(self.n_agents)\n",
    "        info = {'transitions_matrix': transition_matrix}\n",
    "        \n",
    "        return self.state, rewards, self.done, info\n",
    "\n",
    "    \n",
    "    def social_welfare(self, rewards):\n",
    "\n",
    "        # Utilitarian Social Welfare\n",
    "        if self.social_welfare_type == 'utilitarian':\n",
    "            rewards = [sum(rewards)/(self.n_agents)]*(self.n_agents)\n",
    "        # Rawls Social Welfare\n",
    "        elif self.social_welfare_type == 'rawlsian':\n",
    "            rewards = [min(rewards)]*(self.n_agents)\n",
    "\n",
    "        return rewards\n",
    "\n",
    "    def render(self, mode='human', close=False):\n",
    "        \n",
    "        # Render the environment to the screen\n",
    "        pass"
   ]
  },
  {
   "cell_type": "code",
   "execution_count": 127,
   "id": "03e51e1e",
   "metadata": {},
   "outputs": [],
   "source": [
    "env = BraessGymEnv()"
   ]
  },
  {
   "cell_type": "code",
   "execution_count": 136,
   "id": "9364c764",
   "metadata": {},
   "outputs": [],
   "source": [
    "env = BraessGymEnv()\n",
    "i = 0\n",
    "done = False\n",
    "while not done:\n",
    "    actions = [action_space.sample() for i in range(n_agents)]\n",
    "    state, rewards, done, info = env.step(actions)\n",
    "    if i == 10: done=True\n",
    "    i+=1"
   ]
  },
  {
   "cell_type": "code",
   "execution_count": 137,
   "id": "9f141e46",
   "metadata": {},
   "outputs": [
    {
     "data": {
      "text/plain": [
       "0"
      ]
     },
     "execution_count": 137,
     "metadata": {},
     "output_type": "execute_result"
    }
   ],
   "source": [
    "action_space.sample()"
   ]
  },
  {
   "cell_type": "code",
   "execution_count": 138,
   "id": "fb85e311",
   "metadata": {},
   "outputs": [
    {
     "data": {
      "text/plain": [
       "{'transitions_matrix': array([[  0., 497., 503.,   0.],\n",
       "        [  0.,   0., 503.,   0.],\n",
       "        [  0.,   0.,   0.,   0.],\n",
       "        [  0.,   0.,   0.,   0.]])}"
      ]
     },
     "execution_count": 138,
     "metadata": {},
     "output_type": "execute_result"
    }
   ],
   "source": [
    "info"
   ]
  },
  {
   "cell_type": "code",
   "execution_count": null,
   "id": "4b4ffee6",
   "metadata": {},
   "outputs": [],
   "source": []
  }
 ],
 "metadata": {
  "kernelspec": {
   "display_name": "Python 3",
   "language": "python",
   "name": "python3"
  },
  "language_info": {
   "codemirror_mode": {
    "name": "ipython",
    "version": 3
   },
   "file_extension": ".py",
   "mimetype": "text/x-python",
   "name": "python",
   "nbconvert_exporter": "python",
   "pygments_lexer": "ipython3",
   "version": "3.8.5"
  }
 },
 "nbformat": 4,
 "nbformat_minor": 5
}

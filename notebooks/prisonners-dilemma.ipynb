{
 "cells": [
  {
   "cell_type": "code",
   "execution_count": 2,
   "id": "d5439fc0",
   "metadata": {},
   "outputs": [],
   "source": [
    "import gym\n",
    "from gym import spaces\n",
    "import numpy as np\n",
    "from collections import defaultdict\n",
    "import matplotlib.pyplot as plt\n",
    "from tqdm.notebook import tqdm\n",
    "\n",
    "\n",
    "import os\n",
    "import torch as T\n",
    "import torch.nn as nn\n",
    "import torch.nn.functional as F\n",
    "import torch.optim as optim\n",
    "import numpy as np\n"
   ]
  },
  {
   "cell_type": "code",
   "execution_count": 83,
   "id": "a1dcc3c5",
   "metadata": {},
   "outputs": [],
   "source": [
    "class CustomEnv(gym.Env):\n",
    "    \n",
    "    \"\"\"Custom Environment that follows gym interface\"\"\"\n",
    "    metadata = {'render.modes': ['human']}\n",
    "\n",
    "    def __init__(self, k_init):\n",
    "        super(CustomEnv, self).__init__()\n",
    "        self.r = 0.01\n",
    "        self.k_init = k_init\n",
    "        self.c_space = spaces.Box(low=np.array([0]), high=np.array([100]))\n",
    "        self.k_space = spaces.Box(low=np.array([0]), high=np.array([100]))\n",
    "    \n",
    "    def utility(self, c):\n",
    "        return 1 + c\n",
    "        \n",
    "    def reset(self):\n",
    "        self.k = self.k_init\n",
    "        self.done = False\n",
    "        return self.k\n",
    "    \n",
    "    def step(self, c):\n",
    "        self.k = (1+self.r) * self.k - c\n",
    "        if self.k <=0: self.done = True\n",
    "        return self.k, self.utility(c), self.done\n",
    "\n",
    "    \n",
    "    def render(self, mode='human', close=False):\n",
    "        # Render the environment to the screen\n",
    "        pass\n",
    "\n"
   ]
  },
  {
   "cell_type": "code",
   "execution_count": 142,
   "id": "36989c99",
   "metadata": {},
   "outputs": [],
   "source": [
    "\n",
    "class ReplayBuffer(object):\n",
    "    def __init__(self, max_size, input_shape, n_actions):\n",
    "        self.mem_size = max_size\n",
    "        self.mem_cntr = 0\n",
    "        self.state_memory = np.zeros((self.mem_size, input_shape),\n",
    "                                     dtype=np.float32)\n",
    "        self.new_state_memory = np.zeros((self.mem_size, input_shape),\n",
    "                                         dtype=np.float32)\n",
    "\n",
    "        self.action_memory = np.zeros(self.mem_size, dtype=np.int64)\n",
    "        self.reward_memory = np.zeros(self.mem_size, dtype=np.float32)\n",
    "        self.terminal_memory = np.zeros(self.mem_size, dtype=np.bool)\n",
    "\n",
    "    def store_transition(self, state, action, reward, state_, done):\n",
    "        index = self.mem_cntr % self.mem_size\n",
    "        self.state_memory[index] = state\n",
    "        self.new_state_memory[index] = state_\n",
    "        self.action_memory[index] = action\n",
    "        self.reward_memory[index] = reward\n",
    "        self.terminal_memory[index] = done\n",
    "        self.mem_cntr += 1\n",
    "\n",
    "    def sample_buffer(self, batch_size):\n",
    "        max_mem = min(self.mem_cntr, self.mem_size)\n",
    "        batch = np.random.choice(max_mem, batch_size, replace=False)\n",
    "\n",
    "        states = self.state_memory[batch]\n",
    "        actions = self.action_memory[batch]\n",
    "        rewards = self.reward_memory[batch]\n",
    "        states_ = self.new_state_memory[batch]\n",
    "        terminal = self.terminal_memory[batch]\n",
    "\n",
    "        return states, actions, rewards, states_, terminalZ\n",
    "    \n",
    "    \n",
    "class DeepQNetwork(nn.Module):\n",
    "    def __init__(self, lr, n_actions, name, input_dims, chkpt_dir):\n",
    "        super(DeepQNetwork, self).__init__()\n",
    "        self.checkpoint_dir = chkpt_dir\n",
    "        self.checkpoint_file = os.path.join(self.checkpoint_dir, name)\n",
    "\n",
    "        self.conv1 = nn.Conv2d(input_dims, 32, 8, stride=4)\n",
    "        self.conv2 = nn.Conv2d(32, 64, 4, stride=2)\n",
    "        self.conv3 = nn.Conv2d(64, 64, 3, stride=1)\n",
    "\n",
    "        fc_input_dims = self.calculate_conv_output_dims(input_dims)\n",
    "\n",
    "        self.fc1 = nn.Linear(fc_input_dims, 512)\n",
    "        self.fc2 = nn.Linear(512, n_actions)\n",
    "\n",
    "        self.optimizer = optim.RMSprop(self.parameters(), lr=lr)\n",
    "\n",
    "        self.loss = nn.MSELoss()\n",
    "        self.device = T.device('cuda:0' if T.cuda.is_available() else 'cpu')\n",
    "        self.to(self.device)\n",
    "\n",
    "    def calculate_conv_output_dims(self, input_dims):\n",
    "        state = T.zeros(1, input_dims)\n",
    "        dims = self.conv1(state)\n",
    "        dims = self.conv2(dims)\n",
    "        dims = self.conv3(dims)\n",
    "        return int(np.prod(dims.size()))\n",
    "\n",
    "    def forward(self, state):\n",
    "        conv1 = F.relu(self.conv1(state))\n",
    "        conv2 = F.relu(self.conv2(conv1))\n",
    "        conv3 = F.relu(self.conv3(conv2))\n",
    "        conv_state = conv3.view(conv3.size()[0], -1)\n",
    "\n",
    "        flat1 = F.relu(self.fc1(conv_state))\n",
    "        actions = self.fc2(flat1)\n",
    "\n",
    "        return actions\n",
    "\n",
    "    def save_checkpoint(self):\n",
    "        print('... saving checkpoint ...')\n",
    "        T.save(self.state_dict(), self.checkpoint_file)\n",
    "\n",
    "    def load_checkpoint(self):\n",
    "        print('... loading checkpoint ...')\n",
    "        self.load_state_dict(T.load(self.checkpoint_file))\n",
    "\n",
    "\n",
    "\n",
    "class DQNAgent(object):\n",
    "    def __init__(self, gamma, epsilon, lr, n_actions, input_dims,\n",
    "                 mem_size, batch_size, eps_min=0.01, eps_dec=5e-7,\n",
    "                 replace=1000, algo=None, env_name=None, chkpt_dir='tmp/dqn'):\n",
    "        self.gamma = gamma\n",
    "        self.epsilon = epsilon\n",
    "        self.lr = lr\n",
    "        self.n_actions = n_actions\n",
    "        self.input_dims = input_dims\n",
    "        self.batch_size = batch_size\n",
    "        self.eps_min = eps_min\n",
    "        self.eps_dec = eps_dec\n",
    "        self.replace_target_cnt = replace\n",
    "        self.algo = algo\n",
    "        self.env_name = env_name\n",
    "        self.chkpt_dir = chkpt_dir\n",
    "        self.action_space = [i for i in range(n_actions)]\n",
    "        self.learn_step_counter = 0\n",
    "\n",
    "        self.memory = ReplayBuffer(mem_size, input_dims, n_actions)\n",
    "\n",
    "        self.q_eval = DeepQNetwork(self.lr, self.n_actions,\n",
    "                                    input_dims=self.input_dims,\n",
    "                                    name=self.env_name+'_'+self.algo+'_q_eval',\n",
    "                                    chkpt_dir=self.chkpt_dir)\n",
    "\n",
    "        self.q_next = DeepQNetwork(self.lr, self.n_actions,\n",
    "                                    input_dims=self.input_dims,\n",
    "                                    name=self.env_name+'_'+self.algo+'_q_next',\n",
    "                                    chkpt_dir=self.chkpt_dir)\n",
    "\n",
    "    def choose_action(self, observation):\n",
    "        if np.random.random() > self.epsilon:\n",
    "            state = T.tensor([observation],dtype=T.float).to(self.q_eval.device)\n",
    "            actions = self.q_eval.forward(state)\n",
    "            action = T.argmax(actions).item()\n",
    "        else:\n",
    "            action = np.random.choice(self.action_space)\n",
    "\n",
    "        return action\n",
    "\n",
    "    def store_transition(self, state, action, reward, state_, done):\n",
    "        self.memory.store_transition(state, action, reward, state_, done)\n",
    "\n",
    "    def sample_memory(self):\n",
    "        state, action, reward, new_state, done = \\\n",
    "                                self.memory.sample_buffer(self.batch_size)\n",
    "\n",
    "        states = T.tensor(state).to(self.q_eval.device)\n",
    "        rewards = T.tensor(reward).to(self.q_eval.device)\n",
    "        dones = T.tensor(done).to(self.q_eval.device)\n",
    "        actions = T.tensor(action).to(self.q_eval.device)\n",
    "        states_ = T.tensor(new_state).to(self.q_eval.device)\n",
    "\n",
    "        return states, actions, rewards, states_, dones\n",
    "\n",
    "    def replace_target_network(self):\n",
    "        if self.learn_step_counter % self.replace_target_cnt == 0:\n",
    "            self.q_next.load_state_dict(self.q_eval.state_dict())\n",
    "\n",
    "    def decrement_epsilon(self):\n",
    "        self.epsilon = self.epsilon - self.eps_dec \\\n",
    "                           if self.epsilon > self.eps_min else self.eps_min\n",
    "\n",
    "    def save_models(self):\n",
    "        self.q_eval.save_checkpoint()\n",
    "        self.q_next.save_checkpoint()\n",
    "\n",
    "    def load_models(self):\n",
    "        self.q_eval.load_checkpoint()\n",
    "        self.q_next.load_checkpoint()\n",
    "\n",
    "    def learn(self):\n",
    "        if self.memory.mem_cntr < self.batch_size:\n",
    "            return\n",
    "\n",
    "        self.q_eval.optimizer.zero_grad()\n",
    "\n",
    "        self.replace_target_network()\n",
    "\n",
    "        states, actions, rewards, states_, dones = self.sample_memory()\n",
    "        indices = np.arange(self.batch_size)\n",
    "\n",
    "        q_pred = self.q_eval.forward(states)[indices, actions]\n",
    "        q_next = self.q_next.forward(states_).max(dim=1)[0]\n",
    "\n",
    "        q_next[dones] = 0.0\n",
    "        q_target = rewards + self.gamma*q_next\n",
    "\n",
    "        loss = self.q_eval.loss(q_target, q_pred).to(self.q_eval.device)\n",
    "        loss.backward()\n",
    "        self.q_eval.optimizer.step()\n",
    "        self.learn_step_counter += 1\n",
    "\n",
    "        self.decrement_epsilon()"
   ]
  },
  {
   "cell_type": "code",
   "execution_count": 143,
   "id": "a92f1ee7",
   "metadata": {},
   "outputs": [
    {
     "data": {
      "text/plain": [
       "1"
      ]
     },
     "execution_count": 143,
     "metadata": {},
     "output_type": "execute_result"
    }
   ],
   "source": [
    "env = CustomEnv(k_init=1)\n",
    "env.reset()\n",
    "env.k"
   ]
  },
  {
   "cell_type": "code",
   "execution_count": 144,
   "id": "6b67ec45",
   "metadata": {},
   "outputs": [
    {
     "data": {
      "text/plain": [
       "100.0"
      ]
     },
     "execution_count": 144,
     "metadata": {},
     "output_type": "execute_result"
    }
   ],
   "source": [
    "env.k_space.high[0]"
   ]
  },
  {
   "cell_type": "code",
   "execution_count": 145,
   "id": "b0003afb",
   "metadata": {},
   "outputs": [
    {
     "name": "stdout",
     "output_type": "stream",
     "text": [
      "0.51 1.5 False\n"
     ]
    }
   ],
   "source": [
    "c = 0.5\n",
    "k, u, done = env.step(c)\n",
    "print(k, u, done)"
   ]
  },
  {
   "cell_type": "code",
   "execution_count": 2,
   "id": "49189498",
   "metadata": {},
   "outputs": [],
   "source": [
    "# env = CustomEnv(k_init=1)\n",
    "# env.reset()\n",
    "\n",
    "# best_score = -np.inf\n",
    "# load_checkpoint = False\n",
    "# n_games = 250\n",
    "\n",
    "# agent = DQNAgent(gamma=0.99, epsilon=1, lr=0.0001,\n",
    "#                  input_dims=int(env.k_space.high),\n",
    "#                  n_actions=int(env.c_space.high), mem_size=50000, eps_min=0.1,\n",
    "#                  batch_size=32, replace=1000, eps_dec=1e-5,\n",
    "#                  chkpt_dir='models/', algo='DQNAgent',\n",
    "#                  env_name='PongNoFrameskip-v4')\n",
    "\n",
    "# if load_checkpoint:\n",
    "#     agent.load_models()\n",
    "\n",
    "# fname = agent.algo + '_' + agent.env_name + '_lr' + str(agent.lr) +'_' \\\n",
    "#         + str(n_games) + 'games'\n",
    "# figure_file = 'plots/' + fname + '.png'\n",
    "\n",
    "# # if you want to record video of your agent playing, do a mkdir tmp && mkdir tmp/dqn-video\n",
    "# # and uncomment the following 2 lines.\n",
    "# #env = wrappers.Monitor(env, \"tmp/dqn-video\",\n",
    "# #                    video_callable=lambda episode_id: True, force=True)\n",
    "\n",
    "# n_steps = 0\n",
    "# scores, eps_history, steps_array = [], [], []\n",
    "\n",
    "# for i in range(n_games):\n",
    "#     done = False\n",
    "#     observation = env.reset()\n",
    "\n",
    "#     score = 0\n",
    "#     while not done:\n",
    "#         action = agent.choose_action(observation)\n",
    "#         observation_, reward, done, info = env.step(action)\n",
    "#         score += reward\n",
    "\n",
    "#         if not load_checkpoint:\n",
    "#             agent.store_transition(observation, action,\n",
    "#                                  reward, observation_, done)\n",
    "#             agent.learn()\n",
    "#         observation = observation_\n",
    "#         n_steps += 1\n",
    "#     scores.append(score)\n",
    "#     steps_array.append(n_steps)\n",
    "\n",
    "#     avg_score = np.mean(scores[-100:])\n",
    "#     print('episode: ', i,'score: ', score,\n",
    "#          ' average score %.1f' % avg_score, 'best score %.2f' % best_score,\n",
    "#         'epsilon %.2f' % agent.epsilon, 'steps', n_steps)\n",
    "\n",
    "#     if avg_score > best_score:\n",
    "#         if not load_checkpoint:\n",
    "#             agent.save_models()\n",
    "#         best_score = avg_score\n",
    "\n",
    "#     eps_history.append(agent.epsilon)\n",
    "\n",
    "# x = [i+1 for i in range(len(scores))]\n",
    "# plot_learning_curve(steps_array, scores, eps_history, figure_file)"
   ]
  },
  {
   "cell_type": "code",
   "execution_count": 3,
   "id": "1cd2b0fa",
   "metadata": {},
   "outputs": [
    {
     "data": {
      "text/plain": [
       "array([[0., 0., 0., 0., 0., 0., 0., 0., 0., 0., 0., 0., 0., 0., 0., 0.,\n",
       "        0., 0., 0., 0., 0., 0., 0., 0., 0., 0., 0., 0., 0., 0., 0., 0.,\n",
       "        0., 0., 0., 0., 0., 0., 0., 0., 0., 0., 0., 0., 0., 0., 0., 0.,\n",
       "        0., 0., 0., 0., 0., 0., 0., 0., 0., 0., 0., 0., 0., 0., 0., 0.,\n",
       "        0., 0., 0., 0., 0., 0., 0., 0., 0., 0., 0., 0., 0., 0., 0., 0.,\n",
       "        0., 0., 0., 0., 0., 0., 0., 0., 0., 0., 0., 0., 0., 0., 0., 0.,\n",
       "        0., 0., 0., 0.]], dtype=float32)"
      ]
     },
     "execution_count": 3,
     "metadata": {},
     "output_type": "execute_result"
    }
   ],
   "source": [
    "np.zeros((1, 100),  dtype=np.float32)"
   ]
  },
  {
   "cell_type": "code",
   "execution_count": 5,
   "id": "4c80c860",
   "metadata": {},
   "outputs": [],
   "source": [
    "class PrisonnersDilemma(gym.Env):\n",
    "    \n",
    "    \"\"\"Custom Environment that follows gym interface\"\"\"\n",
    "    metadata = {'render.modes': ['human']}\n",
    "\n",
    "    def __init__(self):\n",
    "        super(PrisonnersDilemma, self).__init__()\n",
    "        self.n_agents = 2\n",
    "        self.n_actions = 2\n",
    "        self.n_states = 5 # (0: initial, 1: (0,0), 2: (1,0), 3: (0,1), 4: (1,1)\n",
    "        self.n_games = 10\n",
    "        #self.action_space = spaces.Discrete(self.n_actions)\n",
    "        #self.observation_space = spaces.Discrete(self.n_states)\n",
    "        \n",
    "    def reset(self):\n",
    "        self.state = 0\n",
    "        self.game = 0\n",
    "        self.done = False\n",
    "        return self.state\n",
    "    \n",
    "    def step(self, actions):\n",
    "        \n",
    "        actions = [0]\n",
    "        \n",
    "        if actions == [0, 0]:\n",
    "            rewards = [1, 1]\n",
    "            self.state = 1\n",
    "            \n",
    "        elif actions == [1, 0]:\n",
    "            rewards = [0, 3]\n",
    "            self.state = 2\n",
    "            \n",
    "        elif actions == [0, 1]:\n",
    "            rewards = [3, 0]\n",
    "            self.state = 3     \n",
    "\n",
    "        else:\n",
    "            rewards = [2, 2]\n",
    "            self.state = 4\n",
    "            \n",
    "        \n",
    "        self.game +=1\n",
    "        \n",
    "        if self.game == self.n_games:\n",
    "            self.state = 0\n",
    "            self.done = True\n",
    "            \n",
    "        info = {}\n",
    "            \n",
    "        return self.state, rewards, self.done, info\n",
    "\n",
    "    \n",
    "    def render(self, mode='human', close=False):\n",
    "        # Render the environment to the screen\n",
    "        pass\n",
    "\n",
    "    \n",
    "# class Q_Agent():\n",
    "#     def __init__(self, lr, gamma, eps_start, eps_end, eps_dec, n_actions, n_states):\n",
    "        \n",
    "#         self.lr = lr\n",
    "#         self.gamma = gamma\n",
    "#         self.epsilon = eps_start\n",
    "#         self.eps_min = eps_end\n",
    "#         self.eps_dec = eps_dec\n",
    "        \n",
    "#         self.n_actions = n_actions\n",
    "#         self.n_states = n_states\n",
    "        \n",
    "#         self.Q = {}\n",
    "#         #self.q_table = np.zeros(env.n_actions)\n",
    "    \n",
    "#     def policy_fn(self):\n",
    "        \n",
    "    \n",
    "#     def select_action(self):\n",
    "#         pass\n",
    "    \n",
    "\n",
    "class QAgent():\n",
    "    def __init__(self, lr, gamma, n_actions, n_states, eps_start, eps_end, eps_dec):\n",
    "        self.lr = lr\n",
    "        self.gamma = gamma\n",
    "        self.n_actions = n_actions\n",
    "        self.n_states = n_states\n",
    "        self.epsilon = eps_start\n",
    "        self.eps_min = eps_end\n",
    "        self.eps_dec = eps_dec\n",
    "\n",
    "        self.Q = {}\n",
    "\n",
    "        self.init_Q()\n",
    "\n",
    "    def init_Q(self):\n",
    "        for state in range(self.n_states):\n",
    "            for action in range(self.n_actions):\n",
    "                self.Q[(state, action)] = 0.0\n",
    "\n",
    "    def choose_action(self, state):\n",
    "        if np.random.random() < self.epsilon:\n",
    "            action = np.random.choice([i for i in range(self.n_actions)])\n",
    "        else:\n",
    "            actions = np.array([self.Q[(state, a)] \\\n",
    "                                for a in range(self.n_actions)])\n",
    "            action = np.argmax(actions)\n",
    "        return action\n",
    "\n",
    "    def decrement_epsilon(self):\n",
    "        self.epsilon = self.epsilon*self.eps_dec if self.epsilon>self.eps_min\\\n",
    "                       else self.eps_min\n",
    "\n",
    "    def learn(self, state, action, reward, state_):\n",
    "        actions = np.array([self.Q[(state_, a)] for a in range(self.n_actions)])\n",
    "        a_max = np.argmax(actions)\n",
    "\n",
    "        self.Q[(state, action)] += self.lr*(reward +\n",
    "                                        self.gamma*self.Q[(state_, a_max)] -\n",
    "                                        self.Q[(state, action)])\n",
    "        self.decrement_epsilon()\n",
    "\n",
    "class DQN(nn.Module):\n",
    "    def __init__(self):\n",
    "        super(DQN, self).__init__()\n",
    "        self.layers = nn.Sequential(\n",
    "          nn.Linear(env.observation_space.n, 20),\n",
    "          nn.ReLU(),\n",
    "          nn.Linear(20, 20),\n",
    "          nn.ReLU(),\n",
    "          nn.Linear(20, env.action_space.n)\n",
    "        )\n",
    "        \n",
    "    def forward(self, x):\n",
    "        return self.layers(x)\n",
    "    \n",
    "    def act(self, state, epsilon):\n",
    "        if random.random() > epsilon:\n",
    "            state = Variable(torch.FloatTensor(state).unsqueeze(0)) \n",
    "            q_value = self.forward(state)\n",
    "            action  = q_value.max(1)[1]\n",
    "        else:\n",
    "            action = random.randrange(env.action_space.n)\n",
    "        return action\n"
   ]
  },
  {
   "cell_type": "code",
   "execution_count": 4,
   "id": "a7764832",
   "metadata": {},
   "outputs": [
    {
     "ename": "NameError",
     "evalue": "name 'env' is not defined",
     "output_type": "error",
     "traceback": [
      "\u001b[0;31m---------------------------------------------------------------------------\u001b[0m",
      "\u001b[0;31mNameError\u001b[0m                                 Traceback (most recent call last)",
      "\u001b[0;32m/var/folders/by/t7qyz4pn5jsg1132688qnk780000gn/T/ipykernel_95842/2865343815.py\u001b[0m in \u001b[0;36m<module>\u001b[0;34m\u001b[0m\n\u001b[0;32m----> 1\u001b[0;31m \u001b[0minput_shape\u001b[0m \u001b[0;34m=\u001b[0m \u001b[0mint\u001b[0m\u001b[0;34m(\u001b[0m\u001b[0menv\u001b[0m\u001b[0;34m.\u001b[0m\u001b[0mc_space\u001b[0m\u001b[0;34m.\u001b[0m\u001b[0mhigh\u001b[0m\u001b[0;34m)\u001b[0m\u001b[0;34m\u001b[0m\u001b[0;34m\u001b[0m\u001b[0m\n\u001b[0m\u001b[1;32m      2\u001b[0m \u001b[0mnp\u001b[0m\u001b[0;34m.\u001b[0m\u001b[0mzeros\u001b[0m\u001b[0;34m(\u001b[0m\u001b[0;34m(\u001b[0m\u001b[0;36m1\u001b[0m\u001b[0;34m,\u001b[0m \u001b[0minput_shape\u001b[0m\u001b[0;34m)\u001b[0m\u001b[0;34m,\u001b[0m \u001b[0mdtype\u001b[0m\u001b[0;34m=\u001b[0m\u001b[0mnp\u001b[0m\u001b[0;34m.\u001b[0m\u001b[0mfloat32\u001b[0m\u001b[0;34m)\u001b[0m\u001b[0;34m\u001b[0m\u001b[0;34m\u001b[0m\u001b[0m\n",
      "\u001b[0;31mNameError\u001b[0m: name 'env' is not defined"
     ]
    }
   ],
   "source": [
    "input_shape = int(env.c_space.high)\n",
    "np.zeros((1, input_shape), dtype=np.float32)"
   ]
  },
  {
   "cell_type": "code",
   "execution_count": 6,
   "id": "09e848d1",
   "metadata": {},
   "outputs": [
    {
     "data": {
      "text/plain": [
       "0"
      ]
     },
     "execution_count": 6,
     "metadata": {},
     "output_type": "execute_result"
    }
   ],
   "source": [
    "env = PrisonnersDilemma()\n",
    "env.reset()\n",
    "env.state"
   ]
  },
  {
   "cell_type": "code",
   "execution_count": 7,
   "id": "122e0e91",
   "metadata": {},
   "outputs": [
    {
     "name": "stdout",
     "output_type": "stream",
     "text": [
      "4 [2, 2] False 1\n"
     ]
    }
   ],
   "source": [
    "actions = [0, 0]\n",
    "new_state, rewards, done, info = env.step(actions)\n",
    "print(new_state, rewards, done, env.game)"
   ]
  },
  {
   "cell_type": "code",
   "execution_count": 8,
   "id": "6f48ab18",
   "metadata": {},
   "outputs": [
    {
     "name": "stdout",
     "output_type": "stream",
     "text": [
      "4 [2, 2] False 2\n",
      "4 [2, 2] False 3\n"
     ]
    }
   ],
   "source": [
    "actions = [1, 0]\n",
    "new_state, rewards, done, info = env.step(actions)\n",
    "print(new_state, rewards, done, env.game)\n",
    "\n",
    "actions = [0, 1]\n",
    "new_state, rewards, done, info = env.step(actions)\n",
    "print(new_state, rewards, done, env.game)"
   ]
  },
  {
   "cell_type": "code",
   "execution_count": 9,
   "id": "eefbff62",
   "metadata": {},
   "outputs": [
    {
     "name": "stdout",
     "output_type": "stream",
     "text": [
      "4 [2, 2] False 4\n"
     ]
    }
   ],
   "source": [
    "actions = [1, 1]\n",
    "new_state, rewards, done, info = env.step(actions)\n",
    "print(new_state, rewards, done, env.game)"
   ]
  },
  {
   "cell_type": "code",
   "execution_count": 10,
   "id": "e656d806",
   "metadata": {},
   "outputs": [
    {
     "data": {
      "text/plain": [
       "False"
      ]
     },
     "execution_count": 10,
     "metadata": {},
     "output_type": "execute_result"
    }
   ],
   "source": [
    "done"
   ]
  },
  {
   "cell_type": "code",
   "execution_count": 11,
   "id": "9ad4ebba",
   "metadata": {},
   "outputs": [
    {
     "data": {
      "application/vnd.jupyter.widget-view+json": {
       "model_id": "97707ab52d6d4f1f9e71b5c833f16fb9",
       "version_major": 2,
       "version_minor": 0
      },
      "text/plain": [
       "  0%|          | 0/100000 [00:00<?, ?it/s]"
      ]
     },
     "metadata": {},
     "output_type": "display_data"
    },
    {
     "name": "stdout",
     "output_type": "stream",
     "text": [
      "episode  0 \n",
      " Mean Reward Agent 1 20.00 \n",
      " Mean Reward Agent 2 20.00 \n",
      " epsilon 0.95\n",
      "episode  100 \n",
      " Mean Reward Agent 1 20.00 \n",
      " Mean Reward Agent 2 20.00 \n",
      " epsilon 0.01\n",
      "episode  200 \n",
      " Mean Reward Agent 1 20.00 \n",
      " Mean Reward Agent 2 20.00 \n",
      " epsilon 0.00\n",
      "episode  300 \n",
      " Mean Reward Agent 1 20.00 \n",
      " Mean Reward Agent 2 20.00 \n",
      " epsilon 0.00\n",
      "episode  400 \n",
      " Mean Reward Agent 1 20.00 \n",
      " Mean Reward Agent 2 20.00 \n",
      " epsilon 0.00\n",
      "episode  500 \n",
      " Mean Reward Agent 1 20.00 \n",
      " Mean Reward Agent 2 20.00 \n",
      " epsilon 0.00\n",
      "episode  600 \n",
      " Mean Reward Agent 1 20.00 \n",
      " Mean Reward Agent 2 20.00 \n",
      " epsilon 0.00\n",
      "episode  700 \n",
      " Mean Reward Agent 1 20.00 \n",
      " Mean Reward Agent 2 20.00 \n",
      " epsilon 0.00\n",
      "episode  800 \n",
      " Mean Reward Agent 1 20.00 \n",
      " Mean Reward Agent 2 20.00 \n",
      " epsilon 0.00\n",
      "episode  900 \n",
      " Mean Reward Agent 1 20.00 \n",
      " Mean Reward Agent 2 20.00 \n",
      " epsilon 0.00\n",
      "episode  1000 \n",
      " Mean Reward Agent 1 20.00 \n",
      " Mean Reward Agent 2 20.00 \n",
      " epsilon 0.00\n",
      "episode  1100 \n",
      " Mean Reward Agent 1 20.00 \n",
      " Mean Reward Agent 2 20.00 \n",
      " epsilon 0.00\n",
      "episode  1200 \n",
      " Mean Reward Agent 1 20.00 \n",
      " Mean Reward Agent 2 20.00 \n",
      " epsilon 0.00\n",
      "episode  1300 \n",
      " Mean Reward Agent 1 20.00 \n",
      " Mean Reward Agent 2 20.00 \n",
      " epsilon 0.00\n",
      "episode  1400 \n",
      " Mean Reward Agent 1 20.00 \n",
      " Mean Reward Agent 2 20.00 \n",
      " epsilon 0.00\n",
      "episode  1500 \n",
      " Mean Reward Agent 1 20.00 \n",
      " Mean Reward Agent 2 20.00 \n",
      " epsilon 0.00\n",
      "episode  1600 \n",
      " Mean Reward Agent 1 20.00 \n",
      " Mean Reward Agent 2 20.00 \n",
      " epsilon 0.00\n",
      "episode  1700 \n",
      " Mean Reward Agent 1 20.00 \n",
      " Mean Reward Agent 2 20.00 \n",
      " epsilon 0.00\n",
      "episode  1800 \n",
      " Mean Reward Agent 1 20.00 \n",
      " Mean Reward Agent 2 20.00 \n",
      " epsilon 0.00\n",
      "episode  1900 \n",
      " Mean Reward Agent 1 20.00 \n",
      " Mean Reward Agent 2 20.00 \n",
      " epsilon 0.00\n",
      "episode  2000 \n",
      " Mean Reward Agent 1 20.00 \n",
      " Mean Reward Agent 2 20.00 \n",
      " epsilon 0.00\n",
      "episode  2100 \n",
      " Mean Reward Agent 1 20.00 \n",
      " Mean Reward Agent 2 20.00 \n",
      " epsilon 0.00\n",
      "episode  2200 \n",
      " Mean Reward Agent 1 20.00 \n",
      " Mean Reward Agent 2 20.00 \n",
      " epsilon 0.00\n",
      "episode  2300 \n",
      " Mean Reward Agent 1 20.00 \n",
      " Mean Reward Agent 2 20.00 \n",
      " epsilon 0.00\n",
      "episode  2400 \n",
      " Mean Reward Agent 1 20.00 \n",
      " Mean Reward Agent 2 20.00 \n",
      " epsilon 0.00\n",
      "episode  2500 \n",
      " Mean Reward Agent 1 20.00 \n",
      " Mean Reward Agent 2 20.00 \n",
      " epsilon 0.00\n",
      "episode  2600 \n",
      " Mean Reward Agent 1 20.00 \n",
      " Mean Reward Agent 2 20.00 \n",
      " epsilon 0.00\n",
      "episode  2700 \n",
      " Mean Reward Agent 1 20.00 \n",
      " Mean Reward Agent 2 20.00 \n",
      " epsilon 0.00\n",
      "episode  2800 \n",
      " Mean Reward Agent 1 20.00 \n",
      " Mean Reward Agent 2 20.00 \n",
      " epsilon 0.00\n",
      "episode  2900 \n",
      " Mean Reward Agent 1 20.00 \n",
      " Mean Reward Agent 2 20.00 \n",
      " epsilon 0.00\n",
      "episode  3000 \n",
      " Mean Reward Agent 1 20.00 \n",
      " Mean Reward Agent 2 20.00 \n",
      " epsilon 0.00\n",
      "episode  3100 \n",
      " Mean Reward Agent 1 20.00 \n",
      " Mean Reward Agent 2 20.00 \n",
      " epsilon 0.00\n",
      "episode  3200 \n",
      " Mean Reward Agent 1 20.00 \n",
      " Mean Reward Agent 2 20.00 \n",
      " epsilon 0.00\n",
      "episode  3300 \n",
      " Mean Reward Agent 1 20.00 \n",
      " Mean Reward Agent 2 20.00 \n",
      " epsilon 0.00\n",
      "episode  3400 \n",
      " Mean Reward Agent 1 20.00 \n",
      " Mean Reward Agent 2 20.00 \n",
      " epsilon 0.00\n",
      "episode  3500 \n",
      " Mean Reward Agent 1 20.00 \n",
      " Mean Reward Agent 2 20.00 \n",
      " epsilon 0.00\n",
      "episode  3600 \n",
      " Mean Reward Agent 1 20.00 \n",
      " Mean Reward Agent 2 20.00 \n",
      " epsilon 0.00\n",
      "episode  3700 \n",
      " Mean Reward Agent 1 20.00 \n",
      " Mean Reward Agent 2 20.00 \n",
      " epsilon 0.00\n",
      "episode  3800 \n",
      " Mean Reward Agent 1 20.00 \n",
      " Mean Reward Agent 2 20.00 \n",
      " epsilon 0.00\n",
      "episode  3900 \n",
      " Mean Reward Agent 1 20.00 \n",
      " Mean Reward Agent 2 20.00 \n",
      " epsilon 0.00\n",
      "episode  4000 \n",
      " Mean Reward Agent 1 20.00 \n",
      " Mean Reward Agent 2 20.00 \n",
      " epsilon 0.00\n",
      "episode  4100 \n",
      " Mean Reward Agent 1 20.00 \n",
      " Mean Reward Agent 2 20.00 \n",
      " epsilon 0.00\n",
      "episode  4200 \n",
      " Mean Reward Agent 1 20.00 \n",
      " Mean Reward Agent 2 20.00 \n",
      " epsilon 0.00\n",
      "episode  4300 \n",
      " Mean Reward Agent 1 20.00 \n",
      " Mean Reward Agent 2 20.00 \n",
      " epsilon 0.00\n",
      "episode  4400 \n",
      " Mean Reward Agent 1 20.00 \n",
      " Mean Reward Agent 2 20.00 \n",
      " epsilon 0.00\n",
      "episode  4500 \n",
      " Mean Reward Agent 1 20.00 \n",
      " Mean Reward Agent 2 20.00 \n",
      " epsilon 0.00\n",
      "episode  4600 \n",
      " Mean Reward Agent 1 20.00 \n",
      " Mean Reward Agent 2 20.00 \n",
      " epsilon 0.00\n",
      "episode  4700 \n",
      " Mean Reward Agent 1 20.00 \n",
      " Mean Reward Agent 2 20.00 \n",
      " epsilon 0.00\n",
      "episode  4800 \n",
      " Mean Reward Agent 1 20.00 \n",
      " Mean Reward Agent 2 20.00 \n",
      " epsilon 0.00\n",
      "episode  4900 \n",
      " Mean Reward Agent 1 20.00 \n",
      " Mean Reward Agent 2 20.00 \n",
      " epsilon 0.00\n",
      "episode  5000 \n",
      " Mean Reward Agent 1 20.00 \n",
      " Mean Reward Agent 2 20.00 \n",
      " epsilon 0.00\n",
      "episode  5100 \n",
      " Mean Reward Agent 1 20.00 \n",
      " Mean Reward Agent 2 20.00 \n",
      " epsilon 0.00\n",
      "episode  5200 \n",
      " Mean Reward Agent 1 20.00 \n",
      " Mean Reward Agent 2 20.00 \n",
      " epsilon 0.00\n",
      "episode  5300 \n",
      " Mean Reward Agent 1 20.00 \n",
      " Mean Reward Agent 2 20.00 \n",
      " epsilon 0.00\n",
      "episode  5400 \n",
      " Mean Reward Agent 1 20.00 \n",
      " Mean Reward Agent 2 20.00 \n",
      " epsilon 0.00\n",
      "episode  5500 \n",
      " Mean Reward Agent 1 20.00 \n",
      " Mean Reward Agent 2 20.00 \n",
      " epsilon 0.00\n",
      "episode  5600 \n",
      " Mean Reward Agent 1 20.00 \n",
      " Mean Reward Agent 2 20.00 \n",
      " epsilon 0.00\n",
      "episode  5700 \n",
      " Mean Reward Agent 1 20.00 \n",
      " Mean Reward Agent 2 20.00 \n",
      " epsilon 0.00\n",
      "episode  5800 \n",
      " Mean Reward Agent 1 20.00 \n",
      " Mean Reward Agent 2 20.00 \n",
      " epsilon 0.00\n",
      "episode  5900 \n",
      " Mean Reward Agent 1 20.00 \n",
      " Mean Reward Agent 2 20.00 \n",
      " epsilon 0.00\n",
      "episode  6000 \n",
      " Mean Reward Agent 1 20.00 \n",
      " Mean Reward Agent 2 20.00 \n",
      " epsilon 0.00\n",
      "episode  6100 \n",
      " Mean Reward Agent 1 20.00 \n",
      " Mean Reward Agent 2 20.00 \n",
      " epsilon 0.00\n",
      "episode  6200 \n",
      " Mean Reward Agent 1 20.00 \n",
      " Mean Reward Agent 2 20.00 \n",
      " epsilon 0.00\n",
      "episode  6300 \n",
      " Mean Reward Agent 1 20.00 \n",
      " Mean Reward Agent 2 20.00 \n",
      " epsilon 0.00\n",
      "episode  6400 \n",
      " Mean Reward Agent 1 20.00 \n",
      " Mean Reward Agent 2 20.00 \n",
      " epsilon 0.00\n",
      "episode  6500 \n",
      " Mean Reward Agent 1 20.00 \n",
      " Mean Reward Agent 2 20.00 \n",
      " epsilon 0.00\n",
      "episode  6600 \n",
      " Mean Reward Agent 1 20.00 \n",
      " Mean Reward Agent 2 20.00 \n",
      " epsilon 0.00\n",
      "episode  6700 \n",
      " Mean Reward Agent 1 20.00 \n",
      " Mean Reward Agent 2 20.00 \n",
      " epsilon 0.00\n",
      "episode  6800 \n",
      " Mean Reward Agent 1 20.00 \n",
      " Mean Reward Agent 2 20.00 \n",
      " epsilon 0.00\n",
      "episode  6900 \n",
      " Mean Reward Agent 1 20.00 \n",
      " Mean Reward Agent 2 20.00 \n",
      " epsilon 0.00\n",
      "episode  7000 \n",
      " Mean Reward Agent 1 20.00 \n",
      " Mean Reward Agent 2 20.00 \n",
      " epsilon 0.00\n",
      "episode  7100 \n",
      " Mean Reward Agent 1 20.00 \n",
      " Mean Reward Agent 2 20.00 \n",
      " epsilon 0.00\n",
      "episode  7200 \n",
      " Mean Reward Agent 1 20.00 \n",
      " Mean Reward Agent 2 20.00 \n",
      " epsilon 0.00\n",
      "episode  7300 \n",
      " Mean Reward Agent 1 20.00 \n",
      " Mean Reward Agent 2 20.00 \n",
      " epsilon 0.00\n",
      "episode  7400 \n",
      " Mean Reward Agent 1 20.00 \n",
      " Mean Reward Agent 2 20.00 \n",
      " epsilon 0.00\n",
      "episode  7500 \n",
      " Mean Reward Agent 1 20.00 \n",
      " Mean Reward Agent 2 20.00 \n",
      " epsilon 0.00\n",
      "episode  7600 \n",
      " Mean Reward Agent 1 20.00 \n",
      " Mean Reward Agent 2 20.00 \n",
      " epsilon 0.00\n",
      "episode  7700 \n",
      " Mean Reward Agent 1 20.00 \n",
      " Mean Reward Agent 2 20.00 \n",
      " epsilon 0.00\n",
      "episode  7800 \n",
      " Mean Reward Agent 1 20.00 \n",
      " Mean Reward Agent 2 20.00 \n",
      " epsilon 0.00\n",
      "episode  7900 \n",
      " Mean Reward Agent 1 20.00 \n",
      " Mean Reward Agent 2 20.00 \n",
      " epsilon 0.00\n",
      "episode  8000 \n",
      " Mean Reward Agent 1 20.00 \n",
      " Mean Reward Agent 2 20.00 \n",
      " epsilon 0.00\n",
      "episode  8100 \n",
      " Mean Reward Agent 1 20.00 \n",
      " Mean Reward Agent 2 20.00 \n",
      " epsilon 0.00\n",
      "episode  8200 \n",
      " Mean Reward Agent 1 20.00 \n",
      " Mean Reward Agent 2 20.00 \n",
      " epsilon 0.00\n",
      "episode  8300 \n",
      " Mean Reward Agent 1 20.00 \n",
      " Mean Reward Agent 2 20.00 \n",
      " epsilon 0.00\n",
      "episode  8400 \n",
      " Mean Reward Agent 1 20.00 \n",
      " Mean Reward Agent 2 20.00 \n",
      " epsilon 0.00\n",
      "episode  8500 \n",
      " Mean Reward Agent 1 20.00 \n",
      " Mean Reward Agent 2 20.00 \n",
      " epsilon 0.00\n",
      "episode  8600 \n",
      " Mean Reward Agent 1 20.00 \n",
      " Mean Reward Agent 2 20.00 \n",
      " epsilon 0.00\n",
      "episode  8700 \n",
      " Mean Reward Agent 1 20.00 \n",
      " Mean Reward Agent 2 20.00 \n",
      " epsilon 0.00\n",
      "episode  8800 \n",
      " Mean Reward Agent 1 20.00 \n",
      " Mean Reward Agent 2 20.00 \n",
      " epsilon 0.00\n",
      "episode  8900 \n",
      " Mean Reward Agent 1 20.00 \n",
      " Mean Reward Agent 2 20.00 \n",
      " epsilon 0.00\n",
      "episode  9000 \n",
      " Mean Reward Agent 1 20.00 \n",
      " Mean Reward Agent 2 20.00 \n",
      " epsilon 0.00\n",
      "episode  9100 \n",
      " Mean Reward Agent 1 20.00 \n",
      " Mean Reward Agent 2 20.00 \n",
      " epsilon 0.00\n",
      "episode  9200 \n",
      " Mean Reward Agent 1 20.00 \n",
      " Mean Reward Agent 2 20.00 \n",
      " epsilon 0.00\n",
      "episode  9300 \n",
      " Mean Reward Agent 1 20.00 \n",
      " Mean Reward Agent 2 20.00 \n",
      " epsilon 0.00\n",
      "episode  9400 \n",
      " Mean Reward Agent 1 20.00 \n",
      " Mean Reward Agent 2 20.00 \n",
      " epsilon 0.00\n",
      "episode  9500 \n",
      " Mean Reward Agent 1 20.00 \n",
      " Mean Reward Agent 2 20.00 \n",
      " epsilon 0.00\n",
      "episode  9600 \n",
      " Mean Reward Agent 1 20.00 \n",
      " Mean Reward Agent 2 20.00 \n",
      " epsilon 0.00\n",
      "episode  9700 \n",
      " Mean Reward Agent 1 20.00 \n",
      " Mean Reward Agent 2 20.00 \n",
      " epsilon 0.00\n",
      "episode  9800 \n",
      " Mean Reward Agent 1 20.00 \n",
      " Mean Reward Agent 2 20.00 \n",
      " epsilon 0.00\n",
      "episode  9900 \n",
      " Mean Reward Agent 1 20.00 \n",
      " Mean Reward Agent 2 20.00 \n",
      " epsilon 0.00\n"
     ]
    },
    {
     "name": "stdout",
     "output_type": "stream",
     "text": [
      "episode  10000 \n",
      " Mean Reward Agent 1 20.00 \n",
      " Mean Reward Agent 2 20.00 \n",
      " epsilon 0.00\n",
      "episode  10100 \n",
      " Mean Reward Agent 1 20.00 \n",
      " Mean Reward Agent 2 20.00 \n",
      " epsilon 0.00\n",
      "episode  10200 \n",
      " Mean Reward Agent 1 20.00 \n",
      " Mean Reward Agent 2 20.00 \n",
      " epsilon 0.00\n",
      "episode  10300 \n",
      " Mean Reward Agent 1 20.00 \n",
      " Mean Reward Agent 2 20.00 \n",
      " epsilon 0.00\n",
      "episode  10400 \n",
      " Mean Reward Agent 1 20.00 \n",
      " Mean Reward Agent 2 20.00 \n",
      " epsilon 0.00\n",
      "episode  10500 \n",
      " Mean Reward Agent 1 20.00 \n",
      " Mean Reward Agent 2 20.00 \n",
      " epsilon 0.00\n",
      "episode  10600 \n",
      " Mean Reward Agent 1 20.00 \n",
      " Mean Reward Agent 2 20.00 \n",
      " epsilon 0.00\n",
      "episode  10700 \n",
      " Mean Reward Agent 1 20.00 \n",
      " Mean Reward Agent 2 20.00 \n",
      " epsilon 0.00\n",
      "episode  10800 \n",
      " Mean Reward Agent 1 20.00 \n",
      " Mean Reward Agent 2 20.00 \n",
      " epsilon 0.00\n",
      "episode  10900 \n",
      " Mean Reward Agent 1 20.00 \n",
      " Mean Reward Agent 2 20.00 \n",
      " epsilon 0.00\n",
      "episode  11000 \n",
      " Mean Reward Agent 1 20.00 \n",
      " Mean Reward Agent 2 20.00 \n",
      " epsilon 0.00\n",
      "episode  11100 \n",
      " Mean Reward Agent 1 20.00 \n",
      " Mean Reward Agent 2 20.00 \n",
      " epsilon 0.00\n",
      "episode  11200 \n",
      " Mean Reward Agent 1 20.00 \n",
      " Mean Reward Agent 2 20.00 \n",
      " epsilon 0.00\n",
      "episode  11300 \n",
      " Mean Reward Agent 1 20.00 \n",
      " Mean Reward Agent 2 20.00 \n",
      " epsilon 0.00\n",
      "episode  11400 \n",
      " Mean Reward Agent 1 20.00 \n",
      " Mean Reward Agent 2 20.00 \n",
      " epsilon 0.00\n",
      "episode  11500 \n",
      " Mean Reward Agent 1 20.00 \n",
      " Mean Reward Agent 2 20.00 \n",
      " epsilon 0.00\n",
      "episode  11600 \n",
      " Mean Reward Agent 1 20.00 \n",
      " Mean Reward Agent 2 20.00 \n",
      " epsilon 0.00\n",
      "episode  11700 \n",
      " Mean Reward Agent 1 20.00 \n",
      " Mean Reward Agent 2 20.00 \n",
      " epsilon 0.00\n",
      "episode  11800 \n",
      " Mean Reward Agent 1 20.00 \n",
      " Mean Reward Agent 2 20.00 \n",
      " epsilon 0.00\n",
      "episode  11900 \n",
      " Mean Reward Agent 1 20.00 \n",
      " Mean Reward Agent 2 20.00 \n",
      " epsilon 0.00\n",
      "episode  12000 \n",
      " Mean Reward Agent 1 20.00 \n",
      " Mean Reward Agent 2 20.00 \n",
      " epsilon 0.00\n",
      "episode  12100 \n",
      " Mean Reward Agent 1 20.00 \n",
      " Mean Reward Agent 2 20.00 \n",
      " epsilon 0.00\n",
      "episode  12200 \n",
      " Mean Reward Agent 1 20.00 \n",
      " Mean Reward Agent 2 20.00 \n",
      " epsilon 0.00\n",
      "episode  12300 \n",
      " Mean Reward Agent 1 20.00 \n",
      " Mean Reward Agent 2 20.00 \n",
      " epsilon 0.00\n"
     ]
    },
    {
     "ename": "KeyboardInterrupt",
     "evalue": "",
     "output_type": "error",
     "traceback": [
      "\u001b[0;31m---------------------------------------------------------------------------\u001b[0m",
      "\u001b[0;31mKeyboardInterrupt\u001b[0m                         Traceback (most recent call last)",
      "\u001b[0;32m/var/folders/by/t7qyz4pn5jsg1132688qnk780000gn/T/ipykernel_95842/2196390953.py\u001b[0m in \u001b[0;36m<module>\u001b[0;34m\u001b[0m\n\u001b[1;32m     33\u001b[0m     \u001b[0;32mwhile\u001b[0m \u001b[0;32mnot\u001b[0m \u001b[0mdone\u001b[0m\u001b[0;34m:\u001b[0m\u001b[0;34m\u001b[0m\u001b[0;34m\u001b[0m\u001b[0m\n\u001b[1;32m     34\u001b[0m \u001b[0;34m\u001b[0m\u001b[0m\n\u001b[0;32m---> 35\u001b[0;31m         \u001b[0mactions\u001b[0m \u001b[0;34m=\u001b[0m \u001b[0;34m[\u001b[0m\u001b[0magent\u001b[0m\u001b[0;34m.\u001b[0m\u001b[0mchoose_action\u001b[0m\u001b[0;34m(\u001b[0m\u001b[0mobservation\u001b[0m\u001b[0;34m)\u001b[0m \u001b[0;32mfor\u001b[0m \u001b[0magent\u001b[0m \u001b[0;32min\u001b[0m \u001b[0magents\u001b[0m\u001b[0;34m]\u001b[0m\u001b[0;34m\u001b[0m\u001b[0;34m\u001b[0m\u001b[0m\n\u001b[0m\u001b[1;32m     36\u001b[0m         \u001b[0mobservation_\u001b[0m\u001b[0;34m,\u001b[0m \u001b[0mrewards\u001b[0m\u001b[0;34m,\u001b[0m \u001b[0mdone\u001b[0m\u001b[0;34m,\u001b[0m \u001b[0minfo\u001b[0m \u001b[0;34m=\u001b[0m \u001b[0menv\u001b[0m\u001b[0;34m.\u001b[0m\u001b[0mstep\u001b[0m\u001b[0;34m(\u001b[0m\u001b[0mactions\u001b[0m\u001b[0;34m)\u001b[0m\u001b[0;34m\u001b[0m\u001b[0;34m\u001b[0m\u001b[0m\n\u001b[1;32m     37\u001b[0m \u001b[0;34m\u001b[0m\u001b[0m\n",
      "\u001b[0;32m/var/folders/by/t7qyz4pn5jsg1132688qnk780000gn/T/ipykernel_95842/2196390953.py\u001b[0m in \u001b[0;36m<listcomp>\u001b[0;34m(.0)\u001b[0m\n\u001b[1;32m     33\u001b[0m     \u001b[0;32mwhile\u001b[0m \u001b[0;32mnot\u001b[0m \u001b[0mdone\u001b[0m\u001b[0;34m:\u001b[0m\u001b[0;34m\u001b[0m\u001b[0;34m\u001b[0m\u001b[0m\n\u001b[1;32m     34\u001b[0m \u001b[0;34m\u001b[0m\u001b[0m\n\u001b[0;32m---> 35\u001b[0;31m         \u001b[0mactions\u001b[0m \u001b[0;34m=\u001b[0m \u001b[0;34m[\u001b[0m\u001b[0magent\u001b[0m\u001b[0;34m.\u001b[0m\u001b[0mchoose_action\u001b[0m\u001b[0;34m(\u001b[0m\u001b[0mobservation\u001b[0m\u001b[0;34m)\u001b[0m \u001b[0;32mfor\u001b[0m \u001b[0magent\u001b[0m \u001b[0;32min\u001b[0m \u001b[0magents\u001b[0m\u001b[0;34m]\u001b[0m\u001b[0;34m\u001b[0m\u001b[0;34m\u001b[0m\u001b[0m\n\u001b[0m\u001b[1;32m     36\u001b[0m         \u001b[0mobservation_\u001b[0m\u001b[0;34m,\u001b[0m \u001b[0mrewards\u001b[0m\u001b[0;34m,\u001b[0m \u001b[0mdone\u001b[0m\u001b[0;34m,\u001b[0m \u001b[0minfo\u001b[0m \u001b[0;34m=\u001b[0m \u001b[0menv\u001b[0m\u001b[0;34m.\u001b[0m\u001b[0mstep\u001b[0m\u001b[0;34m(\u001b[0m\u001b[0mactions\u001b[0m\u001b[0;34m)\u001b[0m\u001b[0;34m\u001b[0m\u001b[0;34m\u001b[0m\u001b[0m\n\u001b[1;32m     37\u001b[0m \u001b[0;34m\u001b[0m\u001b[0m\n",
      "\u001b[0;32m/var/folders/by/t7qyz4pn5jsg1132688qnk780000gn/T/ipykernel_95842/2310967293.py\u001b[0m in \u001b[0;36mchoose_action\u001b[0;34m(self, state)\u001b[0m\n\u001b[1;32m    103\u001b[0m             actions = np.array([self.Q[(state, a)] \\\n\u001b[1;32m    104\u001b[0m                                 for a in range(self.n_actions)])\n\u001b[0;32m--> 105\u001b[0;31m             \u001b[0maction\u001b[0m \u001b[0;34m=\u001b[0m \u001b[0mnp\u001b[0m\u001b[0;34m.\u001b[0m\u001b[0margmax\u001b[0m\u001b[0;34m(\u001b[0m\u001b[0mactions\u001b[0m\u001b[0;34m)\u001b[0m\u001b[0;34m\u001b[0m\u001b[0;34m\u001b[0m\u001b[0m\n\u001b[0m\u001b[1;32m    106\u001b[0m         \u001b[0;32mreturn\u001b[0m \u001b[0maction\u001b[0m\u001b[0;34m\u001b[0m\u001b[0;34m\u001b[0m\u001b[0m\n\u001b[1;32m    107\u001b[0m \u001b[0;34m\u001b[0m\u001b[0m\n",
      "\u001b[0;32m<__array_function__ internals>\u001b[0m in \u001b[0;36margmax\u001b[0;34m(*args, **kwargs)\u001b[0m\n",
      "\u001b[0;32m~/anaconda3/lib/python3.8/site-packages/numpy/core/fromnumeric.py\u001b[0m in \u001b[0;36margmax\u001b[0;34m(a, axis, out)\u001b[0m\n\u001b[1;32m   1186\u001b[0m \u001b[0;34m\u001b[0m\u001b[0m\n\u001b[1;32m   1187\u001b[0m     \"\"\"\n\u001b[0;32m-> 1188\u001b[0;31m     \u001b[0;32mreturn\u001b[0m \u001b[0m_wrapfunc\u001b[0m\u001b[0;34m(\u001b[0m\u001b[0ma\u001b[0m\u001b[0;34m,\u001b[0m \u001b[0;34m'argmax'\u001b[0m\u001b[0;34m,\u001b[0m \u001b[0maxis\u001b[0m\u001b[0;34m=\u001b[0m\u001b[0maxis\u001b[0m\u001b[0;34m,\u001b[0m \u001b[0mout\u001b[0m\u001b[0;34m=\u001b[0m\u001b[0mout\u001b[0m\u001b[0;34m)\u001b[0m\u001b[0;34m\u001b[0m\u001b[0;34m\u001b[0m\u001b[0m\n\u001b[0m\u001b[1;32m   1189\u001b[0m \u001b[0;34m\u001b[0m\u001b[0m\n\u001b[1;32m   1190\u001b[0m \u001b[0;34m\u001b[0m\u001b[0m\n",
      "\u001b[0;31mKeyboardInterrupt\u001b[0m: "
     ]
    }
   ],
   "source": [
    "env = PrisonnersDilemma()\n",
    "n_games = 10\n",
    "n_agents = env.n_agents\n",
    "n_states = env.n_states\n",
    "n_actions = env.n_actions\n",
    "env.n_games = n_games\n",
    "params = {'lr': 0.005, \n",
    "          'gamma': 0.999, \n",
    "          'eps_start': 1.0, \n",
    "          'eps_end': 0.001,\n",
    "          'eps_dec': 0.995, \n",
    "          'n_actions': n_actions, \n",
    "          'n_states': n_states}\n",
    "\n",
    "agents = [QAgent(**params) for i in range(env.n_agents)]\n",
    "\n",
    "scores = defaultdict(list)\n",
    "win_pct_list = []\n",
    "n_episodes = 100000\n",
    "cooperations = []\n",
    "qvalues = []\n",
    "actions_list = []\n",
    "\n",
    "for i_episode in tqdm(range(n_episodes)):\n",
    "    \n",
    "    \n",
    "    actions_episode = []\n",
    "    done = False\n",
    "    observation = env.reset()\n",
    "    scores_episode = defaultdict(int)\n",
    "    n_coops = 0\n",
    "    \n",
    "    while not done:\n",
    "        \n",
    "        actions = [agent.choose_action(observation) for agent in agents]\n",
    "        observation_, rewards, done, info = env.step(actions)\n",
    "        \n",
    "        \n",
    "        if observation_ == 4:\n",
    "            n_coops += 1\n",
    "       #print(observation_)\n",
    "        \n",
    "        for i_agent in range(n_agents):\n",
    "            agents[i_agent].learn(observation, actions[i_agent], rewards[i_agent], observation_)\n",
    "            scores_episode[i_agent] += rewards[i_agent]\n",
    "            \n",
    "        observation = observation_\n",
    "    \n",
    "        \n",
    "        actions_episode.append(actions)\n",
    "    actions_list.append(actions_episode)\n",
    "    qvalues.append(agents[0].Q)\n",
    "    for i_agent in range(n_agents):\n",
    "        scores[i_agent].append(scores_episode[i_agent])\n",
    "        \n",
    "    cooperations.append(n_coops/env.n_games)\n",
    "    \n",
    "    if i_episode % 100 == 0:\n",
    "        \n",
    "        win_pct = [np.mean(scores[i][-100:]) for i in range(n_agents)]\n",
    "        print('episode ', i_episode, \n",
    "              '\\n Mean Reward Agent 1 %.2f' % win_pct[0],\n",
    "              '\\n Mean Reward Agent 2 %.2f' % win_pct[1],\n",
    "              '\\n epsilon %.2f' % agents[0].epsilon)"
   ]
  },
  {
   "cell_type": "code",
   "execution_count": 12,
   "id": "50923f41",
   "metadata": {},
   "outputs": [
    {
     "data": {
      "text/plain": [
       "4"
      ]
     },
     "execution_count": 12,
     "metadata": {},
     "output_type": "execute_result"
    }
   ],
   "source": [
    "observation_"
   ]
  },
  {
   "cell_type": "code",
   "execution_count": 66,
   "id": "e7974a7a",
   "metadata": {},
   "outputs": [
    {
     "data": {
      "text/plain": [
       "[<matplotlib.lines.Line2D at 0x12cda3a60>]"
      ]
     },
     "execution_count": 66,
     "metadata": {},
     "output_type": "execute_result"
    },
    {
     "data": {
      "image/png": "[encoded data removed]",
      "text/plain": [
       "<Figure size 432x288 with 1 Axes>"
      ]
     },
     "metadata": {
      "needs_background": "light"
     },
     "output_type": "display_data"
    }
   ],
   "source": [
    "plt.plot([x/n_games for x in scores[0]])\n",
    "plt.plot([x/n_games for x in scores[1]])"
   ]
  },
  {
   "cell_type": "code",
   "execution_count": 67,
   "id": "364deb9d",
   "metadata": {},
   "outputs": [
    {
     "data": {
      "application/vnd.jupyter.widget-view+json": {
       "model_id": "81ef14c4b31a4b48b229ceddad64e6a9",
       "version_major": 2,
       "version_minor": 0
      },
      "text/plain": [
       "  0%|          | 0/100000 [00:00<?, ?it/s]"
      ]
     },
     "metadata": {},
     "output_type": "display_data"
    },
    {
     "data": {
      "application/vnd.jupyter.widget-view+json": {
       "model_id": "9eaa1b1df8e749c3ad81b9d617b6fc70",
       "version_major": 2,
       "version_minor": 0
      },
      "text/plain": [
       "  0%|          | 0/100000 [00:00<?, ?it/s]"
      ]
     },
     "metadata": {},
     "output_type": "display_data"
    },
    {
     "data": {
      "text/plain": [
       "[<matplotlib.lines.Line2D at 0x12b9f66a0>]"
      ]
     },
     "execution_count": 67,
     "metadata": {},
     "output_type": "execute_result"
    },
    {
     "data": {
      "image/png": "[encoded data removed]",
      "text/plain": [
       "<Figure size 432x288 with 1 Axes>"
      ]
     },
     "metadata": {
      "needs_background": "light"
     },
     "output_type": "display_data"
    }
   ],
   "source": [
    "plt.plot([np.mean(scores[0][:i]) for i in tqdm(range(n_episodes))])\n",
    "plt.plot([np.mean(scores[1][:i]) for i in tqdm(range(n_episodes))])"
   ]
  },
  {
   "cell_type": "code",
   "execution_count": null,
   "id": "6ac160d9",
   "metadata": {},
   "outputs": [
    {
     "data": {
      "application/vnd.jupyter.widget-view+json": {
       "model_id": "dc11589984514ddf85e97ec4c5f20cb2",
       "version_major": 2,
       "version_minor": 0
      },
      "text/plain": [
       "  0%|          | 0/100000 [00:00<?, ?it/s]"
      ]
     },
     "metadata": {},
     "output_type": "display_data"
    },
    {
     "data": {
      "application/vnd.jupyter.widget-view+json": {
       "model_id": "ca54aa158de942539dde6f75a1362a18",
       "version_major": 2,
       "version_minor": 0
      },
      "text/plain": [
       "  0%|          | 0/100000 [00:00<?, ?it/s]"
      ]
     },
     "metadata": {},
     "output_type": "display_data"
    }
   ],
   "source": [
    "plt.plot([np.mean([x/n_games for x in scores[0]][i-n_games:i]) for i in tqdm(range(n_episodes))])\n",
    "plt.plot([np.mean([x/n_games for x in scores[1]][i-n_games:i]) for i in tqdm(range(n_episodes))])"
   ]
  },
  {
   "cell_type": "code",
   "execution_count": 59,
   "id": "1b8f5465",
   "metadata": {},
   "outputs": [
    {
     "data": {
      "application/vnd.jupyter.widget-view+json": {
       "model_id": "881ba2bdc152442896025bd30ec1ccf9",
       "version_major": 2,
       "version_minor": 0
      },
      "text/plain": [
       "  0%|          | 0/10000 [00:00<?, ?it/s]"
      ]
     },
     "metadata": {},
     "output_type": "display_data"
    },
    {
     "data": {
      "text/plain": [
       "[<matplotlib.lines.Line2D at 0x12cdaaa90>]"
      ]
     },
     "execution_count": 59,
     "metadata": {},
     "output_type": "execute_result"
    },
    {
     "data": {
      "image/png": "[encoded data removed]",
      "text/plain": [
       "<Figure size 432x288 with 1 Axes>"
      ]
     },
     "metadata": {
      "needs_background": "light"
     },
     "output_type": "display_data"
    }
   ],
   "source": [
    "plt.plot(cooperations)\n",
    "plt.plot([np.mean(cooperations[i-n_games:i]) for i in tqdm(range(n_episodes))])"
   ]
  },
  {
   "cell_type": "code",
   "execution_count": 60,
   "id": "4802b5f5",
   "metadata": {},
   "outputs": [
    {
     "data": {
      "application/vnd.jupyter.widget-view+json": {
       "model_id": "b3e77089be5f4f1286d46cddc32f77ec",
       "version_major": 2,
       "version_minor": 0
      },
      "text/plain": [
       "  0%|          | 0/10000 [00:00<?, ?it/s]"
      ]
     },
     "metadata": {},
     "output_type": "display_data"
    }
   ],
   "source": [
    "def eff(score_1, score_2):\n",
    "    return (score_1 + score_2)/(4*n_games)\n",
    "    \n",
    "efficiency = [eff(scores[0][i], scores[1][i]) for i in tqdm(range(n_episodes))]"
   ]
  },
  {
   "cell_type": "code",
   "execution_count": 61,
   "id": "8b3c99a2",
   "metadata": {},
   "outputs": [
    {
     "data": {
      "application/vnd.jupyter.widget-view+json": {
       "model_id": "e6d6dc8303994943875ac17af98ca0db",
       "version_major": 2,
       "version_minor": 0
      },
      "text/plain": [
       "  0%|          | 0/10000 [00:00<?, ?it/s]"
      ]
     },
     "metadata": {},
     "output_type": "display_data"
    },
    {
     "data": {
      "text/plain": [
       "[<matplotlib.lines.Line2D at 0x142ac3b50>]"
      ]
     },
     "execution_count": 61,
     "metadata": {},
     "output_type": "execute_result"
    },
    {
     "data": {
      "image/png": "[encoded data removed]",
      "text/plain": [
       "<Figure size 432x288 with 1 Axes>"
      ]
     },
     "metadata": {
      "needs_background": "light"
     },
     "output_type": "display_data"
    }
   ],
   "source": [
    "plt.plot(efficiency)\n",
    "plt.plot([np.mean(efficiency[i-n_games:i]) for i in tqdm(range(n_episodes))])"
   ]
  },
  {
   "cell_type": "code",
   "execution_count": 62,
   "id": "a907243d",
   "metadata": {},
   "outputs": [
    {
     "data": {
      "text/plain": [
       "[0.525, 0.525, 0.525, 0.525, 0.525, 0.525, 0.525, 0.525, 0.525, 0.525]"
      ]
     },
     "execution_count": 62,
     "metadata": {},
     "output_type": "execute_result"
    }
   ],
   "source": [
    "efficiency[-10:]"
   ]
  },
  {
   "cell_type": "code",
   "execution_count": 63,
   "id": "a77b659b",
   "metadata": {},
   "outputs": [
    {
     "data": {
      "text/plain": [
       "[[[1, 0],\n",
       "  [0, 0],\n",
       "  [0, 0],\n",
       "  [0, 0],\n",
       "  [0, 0],\n",
       "  [0, 0],\n",
       "  [0, 0],\n",
       "  [0, 0],\n",
       "  [0, 0],\n",
       "  [0, 0]],\n",
       " [[1, 0],\n",
       "  [0, 0],\n",
       "  [0, 0],\n",
       "  [0, 0],\n",
       "  [0, 0],\n",
       "  [0, 0],\n",
       "  [0, 0],\n",
       "  [0, 0],\n",
       "  [0, 0],\n",
       "  [0, 0]],\n",
       " [[1, 0],\n",
       "  [0, 0],\n",
       "  [0, 0],\n",
       "  [0, 0],\n",
       "  [0, 0],\n",
       "  [0, 0],\n",
       "  [0, 0],\n",
       "  [0, 0],\n",
       "  [0, 0],\n",
       "  [0, 0]],\n",
       " [[1, 0],\n",
       "  [0, 0],\n",
       "  [0, 0],\n",
       "  [0, 0],\n",
       "  [0, 0],\n",
       "  [0, 0],\n",
       "  [0, 0],\n",
       "  [0, 0],\n",
       "  [0, 0],\n",
       "  [0, 0]],\n",
       " [[1, 0],\n",
       "  [0, 0],\n",
       "  [0, 0],\n",
       "  [0, 0],\n",
       "  [0, 0],\n",
       "  [0, 0],\n",
       "  [0, 0],\n",
       "  [0, 0],\n",
       "  [0, 0],\n",
       "  [0, 0]],\n",
       " [[1, 0],\n",
       "  [0, 0],\n",
       "  [0, 0],\n",
       "  [0, 0],\n",
       "  [0, 0],\n",
       "  [0, 0],\n",
       "  [0, 0],\n",
       "  [0, 0],\n",
       "  [0, 0],\n",
       "  [0, 0]],\n",
       " [[1, 0],\n",
       "  [0, 0],\n",
       "  [0, 0],\n",
       "  [0, 0],\n",
       "  [0, 0],\n",
       "  [0, 0],\n",
       "  [0, 0],\n",
       "  [0, 0],\n",
       "  [0, 0],\n",
       "  [0, 0]],\n",
       " [[1, 0],\n",
       "  [0, 0],\n",
       "  [0, 0],\n",
       "  [0, 0],\n",
       "  [0, 0],\n",
       "  [0, 0],\n",
       "  [0, 0],\n",
       "  [0, 0],\n",
       "  [0, 0],\n",
       "  [0, 0]],\n",
       " [[1, 0],\n",
       "  [0, 0],\n",
       "  [0, 0],\n",
       "  [0, 0],\n",
       "  [0, 0],\n",
       "  [0, 0],\n",
       "  [0, 0],\n",
       "  [0, 0],\n",
       "  [0, 0],\n",
       "  [0, 0]],\n",
       " [[1, 0],\n",
       "  [0, 0],\n",
       "  [0, 0],\n",
       "  [0, 0],\n",
       "  [0, 0],\n",
       "  [0, 0],\n",
       "  [0, 0],\n",
       "  [0, 0],\n",
       "  [0, 0],\n",
       "  [0, 0]]]"
      ]
     },
     "execution_count": 63,
     "metadata": {},
     "output_type": "execute_result"
    }
   ],
   "source": [
    "actions_list[-10:]"
   ]
  },
  {
   "cell_type": "code",
   "execution_count": 685,
   "id": "9bca08fb",
   "metadata": {},
   "outputs": [
    {
     "data": {
      "text/plain": [
       "dict_keys([0, 1, -5, 2, 3])"
      ]
     },
     "execution_count": 685,
     "metadata": {},
     "output_type": "execute_result"
    }
   ],
   "source": []
  },
  {
   "cell_type": "code",
   "execution_count": 486,
   "id": "ffed85d4",
   "metadata": {},
   "outputs": [
    {
     "ename": "AttributeError",
     "evalue": "'Agent' object has no attribute 'select_action'",
     "output_type": "error",
     "traceback": [
      "\u001b[0;31m---------------------------------------------------------------------------\u001b[0m",
      "\u001b[0;31mAttributeError\u001b[0m                            Traceback (most recent call last)",
      "\u001b[0;32m/var/folders/by/t7qyz4pn5jsg1132688qnk780000gn/T/ipykernel_51453/3358440855.py\u001b[0m in \u001b[0;36m<module>\u001b[0;34m\u001b[0m\n\u001b[1;32m      1\u001b[0m \u001b[0;32mfor\u001b[0m \u001b[0mi\u001b[0m \u001b[0;32min\u001b[0m \u001b[0mrange\u001b[0m\u001b[0;34m(\u001b[0m\u001b[0;36m2\u001b[0m\u001b[0;34m)\u001b[0m\u001b[0;34m:\u001b[0m\u001b[0;34m\u001b[0m\u001b[0;34m\u001b[0m\u001b[0m\n\u001b[0;32m----> 2\u001b[0;31m     \u001b[0mactions\u001b[0m\u001b[0;34m[\u001b[0m\u001b[0mi\u001b[0m\u001b[0;34m]\u001b[0m \u001b[0;34m=\u001b[0m \u001b[0magent\u001b[0m\u001b[0;34m[\u001b[0m\u001b[0mi\u001b[0m\u001b[0;34m]\u001b[0m\u001b[0;34m.\u001b[0m\u001b[0mselect_action\u001b[0m\u001b[0;34m(\u001b[0m\u001b[0mstate\u001b[0m\u001b[0;34m)\u001b[0m\u001b[0;34m\u001b[0m\u001b[0;34m\u001b[0m\u001b[0m\n\u001b[0m\u001b[1;32m      3\u001b[0m \u001b[0;34m\u001b[0m\u001b[0m\n\u001b[1;32m      4\u001b[0m \u001b[0mnew_state\u001b[0m\u001b[0;34m,\u001b[0m \u001b[0mrewards\u001b[0m\u001b[0;34m,\u001b[0m \u001b[0mdone\u001b[0m \u001b[0;34m=\u001b[0m \u001b[0menv\u001b[0m\u001b[0;34m.\u001b[0m\u001b[0mstep\u001b[0m\u001b[0;34m(\u001b[0m\u001b[0mactions\u001b[0m\u001b[0;34m)\u001b[0m\u001b[0;34m\u001b[0m\u001b[0;34m\u001b[0m\u001b[0m\n",
      "\u001b[0;31mAttributeError\u001b[0m: 'Agent' object has no attribute 'select_action'"
     ]
    }
   ],
   "source": [
    "for i in range(2):\n",
    "    actions[i] = agent[i].select_action(state)\n",
    "\n",
    "new_state, rewards, done = env.step(actions)\n"
   ]
  },
  {
   "cell_type": "code",
   "execution_count": null,
   "id": "da41dbb0",
   "metadata": {},
   "outputs": [],
   "source": []
  }
 ],
 "metadata": {
  "kernelspec": {
   "display_name": "Python 3",
   "language": "python",
   "name": "python3"
  },
  "language_info": {
   "codemirror_mode": {
    "name": "ipython",
    "version": 3
   },
   "file_extension": ".py",
   "mimetype": "text/x-python",
   "name": "python",
   "nbconvert_exporter": "python",
   "pygments_lexer": "ipython3",
   "version": "3.8.5"
  }
 },
 "nbformat": 4,
 "nbformat_minor": 5
}
